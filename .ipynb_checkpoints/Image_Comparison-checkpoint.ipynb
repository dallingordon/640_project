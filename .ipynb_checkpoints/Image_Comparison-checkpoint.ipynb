{
 "cells": [
  {
   "cell_type": "code",
   "execution_count": 2,
   "id": "9f135c71",
   "metadata": {},
   "outputs": [],
   "source": [
    "import pandas as pd\n",
    "import numpy as np"
   ]
  },
  {
   "cell_type": "code",
   "execution_count": 3,
   "id": "65d9ed96",
   "metadata": {},
   "outputs": [],
   "source": [
    "data = pd.read_csv(\"Images.csv\",sep='\\t')"
   ]
  },
  {
   "cell_type": "code",
   "execution_count": 6,
   "id": "7c6b4170",
   "metadata": {},
   "outputs": [
    {
     "data": {
      "text/plain": [
       "(['Images/PreRequest/dad.jpeg',\n",
       "  'Images/PreRequest/dog.png',\n",
       "  'Images/PreRequest/brother.jpeg',\n",
       "  'Images/PreRequest/girlinshorts.jpeg',\n",
       "  'Images/PreRequest/3rdwheel.jpeg',\n",
       "  'Images/PreRequest/oldphoto.jpeg',\n",
       "  'Images/PreRequest/tattoo.jpeg',\n",
       "  'Images/PreRequest/hottub.jpeg',\n",
       "  'Images/PreRequest/roommate.jpeg',\n",
       "  'Images/PreRequest/presidents.jpeg',\n",
       "  'Images/PreRequest/dog2.jpeg',\n",
       "  'Images/PreRequest/frog.jpeg',\n",
       "  'Images/PreRequest/men.jpeg',\n",
       "  'Images/PreRequest/cat.jpeg',\n",
       "  'Images/PreRequest/girls.jpeg',\n",
       "  'Images/PreRequest/wine.jpeg',\n",
       "  'Images/PreRequest/cat2.jpeg',\n",
       "  'Images/PreRequest/name.jpeg',\n",
       "  'Images/PreRequest/grandpa.jpeg',\n",
       "  'Images/PreRequest/glasses.jpeg',\n",
       "  'Images/PreRequest/dad2.jpeg',\n",
       "  'Images/PreRequest/lightsaber.jpg',\n",
       "  'Images/PreRequest/taller.jpeg',\n",
       "  'Images/PreRequest/wedding.jpg',\n",
       "  'Images/PreRequest/grownup.jpeg',\n",
       "  'Images/PreRequest/background.jpg',\n",
       "  'Images/PreRequest/half.jpeg',\n",
       "  'Images/PreRequest/red.jpg',\n",
       "  'Images/PreRequest/leash.jpg',\n",
       "  'Images/PreRequest/graffiti.jpeg'],\n",
       " ['Images/PostRequest/dad.jpeg',\n",
       "  'Images/PostRequest/dog.jpg',\n",
       "  'Images/PostRequest/brother.jpeg',\n",
       "  'Images/PostRequest/girlinshorts.jpeg',\n",
       "  'Images/PostRequest/3rdwheel.png',\n",
       "  'Images/PostRequest/oldphoto.jpg',\n",
       "  'Images/PostRequest/tattoo.jpeg',\n",
       "  'Images/PostRequest/hottub.jpeg',\n",
       "  'Images/PostRequest/roommate.jpeg',\n",
       "  'Images/PostRequest/presidents.jpeg',\n",
       "  'Images/PostRequest/dog2.png',\n",
       "  'Images/PostRequest/frog.jpeg',\n",
       "  'Images/PostRequest/men.jpeg',\n",
       "  'Images/PostRequest/cat.png',\n",
       "  'Images/PostRequest/girls.png',\n",
       "  'Images/PostRequest/wine.jpg',\n",
       "  'Images/PostRequest/cat2.jpeg',\n",
       "  'Images/PostRequest/name.jpeg',\n",
       "  'Images/PostRequest/grandpa.jpeg',\n",
       "  'Images/PostRequest/glasses.png',\n",
       "  'Images/PostRequest/dad2.png',\n",
       "  'Images/PostRequest/lightsaber.png',\n",
       "  'Images/PostRequest/taller.jpeg',\n",
       "  'Images/PostRequest/wedding.png',\n",
       "  'Images/PostRequest/grownup.jpeg',\n",
       "  'Images/PostRequest/background.png',\n",
       "  'Images/PostRequest/half.jpeg',\n",
       "  'Images/PostRequest/blue.png',\n",
       "  'Images/PostRequest/leash.jpeg',\n",
       "  'Images/PostRequest/graffiti.jpeg'])"
      ]
     },
     "execution_count": 6,
     "metadata": {},
     "output_type": "execute_result"
    }
   ],
   "source": [
    "##file structure prefixes\n",
    "pre_prefix = 'Images/PreRequest/'\n",
    "post_prefix = 'Images/PostRequest/'\n",
    "dalle_prefix = ''\n",
    "sd_prefix = ''\n",
    "\n",
    "#compile image filenames\n",
    "input_images = [pre_prefix + i for i in data['pre_request_file_name'].values]\n",
    "post_images = [post_prefix + i for i in data['post_request_file_name'].values]\n",
    "dalle_images = input_images\n",
    "sd_images = input_images\n",
    "\n",
    "#display\n",
    "input_images,post_images,dalle_images,sd_images\n"
   ]
  },
  {
   "cell_type": "code",
   "execution_count": null,
   "id": "b5eb6c0c",
   "metadata": {},
   "outputs": [],
   "source": []
  }
 ],
 "metadata": {
  "kernelspec": {
   "display_name": "Python 3 (ipykernel)",
   "language": "python",
   "name": "python3"
  },
  "language_info": {
   "codemirror_mode": {
    "name": "ipython",
    "version": 3
   },
   "file_extension": ".py",
   "mimetype": "text/x-python",
   "name": "python",
   "nbconvert_exporter": "python",
   "pygments_lexer": "ipython3",
   "version": "3.9.12"
  }
 },
 "nbformat": 4,
 "nbformat_minor": 5
}
